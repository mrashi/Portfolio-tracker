{
  "nbformat": 4,
  "nbformat_minor": 0,
  "metadata": {
    "colab": {
      "provenance": []
    },
    "kernelspec": {
      "name": "python3",
      "display_name": "Python 3"
    },
    "language_info": {
      "name": "python"
    }
  },
  "cells": [
    {
      "cell_type": "code",
      "execution_count": 1,
      "metadata": {
        "id": "2ngkHPJ4Ngz6"
      },
      "outputs": [],
      "source": [
        "import yfinance as yf\n",
        "import pandas as pd\n",
        "import matplotlib.pyplot as plt\n",
        "import numpy as np"
      ]
    },
    {
      "cell_type": "code",
      "source": [
        "# Step 1: Define your stock portfolio with stock symbols and number of shares\n",
        "portfolio = {\n",
        "    'TATAMOTORS.NS': 100,\n",
        "    'IEX.NS': 50,\n",
        "    'SAIL.NS': 75\n",
        "}\n"
      ],
      "metadata": {
        "id": "pY_2MdaSPLtP"
      },
      "execution_count": 41,
      "outputs": []
    },
    {
      "cell_type": "code",
      "source": [
        "# Step 2: Create an empty DataFrame to store stock data\n",
        "portfolio_df = pd.DataFrame(columns=['Stock', 'Shares', 'Current Price', 'Total Value'])\n"
      ],
      "metadata": {
        "id": "Uegtz9GePez1"
      },
      "execution_count": 42,
      "outputs": []
    },
    {
      "cell_type": "code",
      "source": [
        "# Step 3: Loop through each stock in your portfolio and fetch current data\n",
        "for stock, shares in portfolio.items():\n",
        "    ticker = yf.Ticker(stock)\n",
        "    current_price = ticker.history(period='1d')['Close'][0]  # Get the most recent closing price\n",
        "\n",
        "    # Add the stock data to the DataFrame using pd.concat\n",
        "    portfolio_df = pd.concat([portfolio_df, pd.DataFrame([{\n",
        "        'Stock': stock,\n",
        "        'Shares': shares,\n",
        "        'Current Price': current_price,\n",
        "        'Total Value': shares * current_price\n",
        "    }])], ignore_index=True)\n",
        "\n",
        "    # Remove the extra append calls for GOOGL and MSFT - handled by the loop"
      ],
      "metadata": {
        "colab": {
          "base_uri": "https://localhost:8080/"
        },
        "id": "Y93jwXYuPnul",
        "outputId": "7ef966eb-f883-4ccd-b397-9930ca424ffc"
      },
      "execution_count": 43,
      "outputs": [
        {
          "output_type": "stream",
          "name": "stderr",
          "text": [
            "<ipython-input-43-01f190090547>:4: FutureWarning: Series.__getitem__ treating keys as positions is deprecated. In a future version, integer keys will always be treated as labels (consistent with DataFrame behavior). To access a value by position, use `ser.iloc[pos]`\n",
            "  current_price = ticker.history(period='1d')['Close'][0]  # Get the most recent closing price\n",
            "<ipython-input-43-01f190090547>:7: FutureWarning: The behavior of DataFrame concatenation with empty or all-NA entries is deprecated. In a future version, this will no longer exclude empty or all-NA columns when determining the result dtypes. To retain the old behavior, exclude the relevant entries before the concat operation.\n",
            "  portfolio_df = pd.concat([portfolio_df, pd.DataFrame([{\n",
            "<ipython-input-43-01f190090547>:4: FutureWarning: Series.__getitem__ treating keys as positions is deprecated. In a future version, integer keys will always be treated as labels (consistent with DataFrame behavior). To access a value by position, use `ser.iloc[pos]`\n",
            "  current_price = ticker.history(period='1d')['Close'][0]  # Get the most recent closing price\n",
            "<ipython-input-43-01f190090547>:4: FutureWarning: Series.__getitem__ treating keys as positions is deprecated. In a future version, integer keys will always be treated as labels (consistent with DataFrame behavior). To access a value by position, use `ser.iloc[pos]`\n",
            "  current_price = ticker.history(period='1d')['Close'][0]  # Get the most recent closing price\n"
          ]
        }
      ]
    },
    {
      "cell_type": "code",
      "source": [
        "# Step 4: Display the portfolio summary\n",
        "print(\"\\nStock Portfolio:\")\n",
        "print(portfolio_df)\n"
      ],
      "metadata": {
        "colab": {
          "base_uri": "https://localhost:8080/"
        },
        "id": "FGr5ucjaPzS1",
        "outputId": "180418cf-2307-40a1-b1dd-a4761266d120"
      },
      "execution_count": 44,
      "outputs": [
        {
          "output_type": "stream",
          "name": "stdout",
          "text": [
            "\n",
            "Stock Portfolio:\n",
            "           Stock Shares  Current Price   Total Value\n",
            "0  TATAMOTORS.NS    100     930.700012  93070.001221\n",
            "1         IEX.NS     50     204.589996  10229.499817\n",
            "2        SAIL.NS     75     134.029999  10052.249908\n"
          ]
        }
      ]
    },
    {
      "cell_type": "code",
      "source": [
        "# Step 5: Calculate the total portfolio value\n",
        "total_portfolio_value = portfolio_df['Total Value'].sum()\n",
        "print(f\"\\nTotal Portfolio Value: INR {total_portfolio_value:.2f}\")\n"
      ],
      "metadata": {
        "colab": {
          "base_uri": "https://localhost:8080/"
        },
        "id": "b09MaJOWQNpc",
        "outputId": "333bea1b-6e2f-4730-e54f-acf82cf825e3"
      },
      "execution_count": 47,
      "outputs": [
        {
          "output_type": "stream",
          "name": "stdout",
          "text": [
            "\n",
            "Total Portfolio Value: INR 113351.75\n"
          ]
        }
      ]
    },
    {
      "cell_type": "code",
      "source": [
        "# Step 6: Visualize the portfolio distribution\n",
        "plt.figure(figsize=(8,8))\n",
        "plt.pie(portfolio_df['Total Value'], labels=portfolio_df['Stock'], autopct='%1.1f%%', startangle=140)\n",
        "plt.title('Portfolio Distribution by Stock')\n",
        "plt.show()"
      ],
      "metadata": {
        "colab": {
          "base_uri": "https://localhost:8080/",
          "height": 675
        },
        "id": "nEKpjrgSTI74",
        "outputId": "87c221b0-a8e2-4c5c-ff3b-03b978434356"
      },
      "execution_count": 48,
      "outputs": [
        {
          "output_type": "display_data",
          "data": {
            "text/plain": [
              "<Figure size 800x800 with 1 Axes>"
            ],
            "image/png": "[encoded data removed]"
          },
          "metadata": {}
        }
      ]
    },
    {
      "cell_type": "code",
      "source": [
        "portfolio_df = pd.DataFrame(columns=['Stock', 'Shares', 'Current Price', 'Total Value'])\n"
      ],
      "metadata": {
        "id": "iZ4VpPbHTM74"
      },
      "execution_count": 49,
      "outputs": []
    },
    {
      "cell_type": "code",
      "source": [
        "print(\"\\nStock Portfolio:\")\n",
        "print(portfolio_df)\n"
      ],
      "metadata": {
        "colab": {
          "base_uri": "https://localhost:8080/"
        },
        "id": "2D4AkglsTa5Q",
        "outputId": "57d4a66a-5d94-46f9-a897-656faeac990b"
      },
      "execution_count": 50,
      "outputs": [
        {
          "output_type": "stream",
          "name": "stdout",
          "text": [
            "\n",
            "Stock Portfolio:\n",
            "Empty DataFrame\n",
            "Columns: [Stock, Shares, Current Price, Total Value]\n",
            "Index: []\n"
          ]
        }
      ]
    },
    {
      "cell_type": "code",
      "source": [
        "total_portfolio_value = portfolio_df['Total Value'].sum()\n",
        "print(f\"\\nTotal Portfolio Value: ${total_portfolio_value:.2f}\")\n"
      ],
      "metadata": {
        "colab": {
          "base_uri": "https://localhost:8080/"
        },
        "id": "Zu3WB6XTTdhA",
        "outputId": "0b80fbbc-2944-4212-8707-82c64ee9952f"
      },
      "execution_count": 51,
      "outputs": [
        {
          "output_type": "stream",
          "name": "stdout",
          "text": [
            "\n",
            "Total Portfolio Value: $0.00\n"
          ]
        }
      ]
    },
    {
      "cell_type": "code",
      "source": [
        "import yfinance as yf\n",
        "import pandas as pd\n",
        "import matplotlib.pyplot as plt\n",
        "\n",
        "# ... (Your existing code for portfolio initialization and fetching stock data) ...\n",
        "\n",
        "for stock, shares in portfolio.items():\n",
        "    # ... (Your existing code to get stock data) ...\n",
        "\n",
        "    # Add the stock data to the DataFrame using pd.concat\n",
        "    portfolio_df = pd.concat([portfolio_df, pd.DataFrame({ # Use pd.concat to add a new row\n",
        "        'Stock': [stock],  # Wrap values in lists to create a DataFrame\n",
        "        'Shares': [shares],\n",
        "        'Current Price': [current_price],\n",
        "        'Price 5 Days Ago': [five_days_ago_price],\n",
        "        '5-Day % Change': [price_change_5d],\n",
        "        'Total Value': [shares * current_price]\n",
        "    })], ignore_index=True)\n"
      ],
      "metadata": {
        "colab": {
          "base_uri": "https://localhost:8080/"
        },
        "id": "Z3PdpbtPTjiH",
        "outputId": "ca56e574-aead-4d9f-d5c6-1ec2634f543d"
      },
      "execution_count": 52,
      "outputs": [
        {
          "output_type": "stream",
          "name": "stderr",
          "text": [
            "<ipython-input-52-a03c00384d23>:11: FutureWarning: The behavior of DataFrame concatenation with empty or all-NA entries is deprecated. In a future version, this will no longer exclude empty or all-NA columns when determining the result dtypes. To retain the old behavior, exclude the relevant entries before the concat operation.\n",
            "  portfolio_df = pd.concat([portfolio_df, pd.DataFrame({ # Use pd.concat to add a new row\n"
          ]
        }
      ]
    },
    {
      "cell_type": "code",
      "source": [
        "print(\"\\nStock Portfolio with 5-Day Price Change:\")\n",
        "print(portfolio_df[['Stock', 'Shares', 'Current Price', 'Price 5 Days Ago', '5-Day % Change', 'Total Value']])\n"
      ],
      "metadata": {
        "colab": {
          "base_uri": "https://localhost:8080/"
        },
        "id": "TsLi6_vKUEBY",
        "outputId": "96b073a0-4d80-4cc4-b732-172a026dc050"
      },
      "execution_count": 53,
      "outputs": [
        {
          "output_type": "stream",
          "name": "stdout",
          "text": [
            "\n",
            "Stock Portfolio with 5-Day Price Change:\n",
            "           Stock Shares  Current Price  Price 5 Days Ago  5-Day % Change  \\\n",
            "0  TATAMOTORS.NS    100     134.029999        221.690002        2.643331   \n",
            "1         IEX.NS     50     134.029999        221.690002        2.643331   \n",
            "2        SAIL.NS     75     134.029999        221.690002        2.643331   \n",
            "\n",
            "    Total Value  \n",
            "0  13402.999878  \n",
            "1   6701.499939  \n",
            "2  10052.249908  \n"
          ]
        }
      ]
    },
    {
      "cell_type": "code",
      "source": [
        "alert_threshold = 5  # Set the alert for a 5% change\n"
      ],
      "metadata": {
        "id": "zh6kBcJ6U2Qu"
      },
      "execution_count": 36,
      "outputs": []
    },
    {
      "cell_type": "code",
      "source": [
        "for index, row in portfolio_df.iterrows():\n",
        "    if abs(row['5-Day % Change']) > alert_threshold:\n",
        "        if row['5-Day % Change'] > 0:\n",
        "            print(f\"Alert: {row['Stock']} increased by {row['5-Day % Change']:.2f}% in the last 5 days!\")\n",
        "        else:\n",
        "            print(f\"Alert: {row['Stock']} decreased by {row['5-Day % Change']:.2f}% in the last 5 days!\")\n"
      ],
      "metadata": {
        "id": "GVTtH5y4XH_1"
      },
      "execution_count": 56,
      "outputs": []
    },
    {
      "cell_type": "code",
      "source": [],
      "metadata": {
        "id": "I0MMq2ZnXL08"
      },
      "execution_count": null,
      "outputs": []
    }
  ]
}